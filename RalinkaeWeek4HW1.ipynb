{
  "nbformat": 4,
  "nbformat_minor": 0,
  "metadata": {
    "colab": {
      "private_outputs": true,
      "provenance": [],
      "include_colab_link": true
    },
    "kernelspec": {
      "name": "python3",
      "display_name": "Python 3"
    },
    "language_info": {
      "name": "python"
    }
  },
  "cells": [
    {
      "cell_type": "markdown",
      "metadata": {
        "id": "view-in-github",
        "colab_type": "text"
      },
      "source": [
        "<a href=\"https://colab.research.google.com/github/rkanejac/Data110/blob/main/RalinkaeWeek4HW1.ipynb\" target=\"_parent\"><img src=\"https://colab.research.google.com/assets/colab-badge.svg\" alt=\"Open In Colab\"/></a>"
      ]
    },
    {
      "cell_type": "markdown",
      "source": [
        "### Scraping Box Office Data Using BeautifulSoup and Requests\n",
        "\n",
        "This Python script automates the process of extracting box office data from BoxOfficeMojo's weekend chart. Utilizing the `requests` library, it fetches the webpage content and employs `BeautifulSoup` for parsing the HTML to isolate the box office table. The script meticulously iterates through table rows, capturing essential details such as rank, release, gross earnings, and more, for each movie listed. The extracted data is then structured and saved into a CSV file named \"box_office_data.csv\". This approach facilitates easy aggregation, analysis, and storage of box office performance data for further analysis or reporting.\n"
      ],
      "metadata": {
        "id": "RICzleUClRx_"
      }
    },
    {
      "cell_type": "code",
      "source": [
        "import requests\n",
        "from bs4 import BeautifulSoup\n",
        "import csv\n",
        "import pandas as pd\n",
        "import matplotlib.pyplot as plt"
      ],
      "metadata": {
        "id": "TiwsBIFYlzrl"
      },
      "execution_count": null,
      "outputs": []
    },
    {
      "cell_type": "code",
      "execution_count": null,
      "metadata": {
        "id": "dVkq8OpFz24r"
      },
      "outputs": [],
      "source": [
        "url = \"https://www.boxofficemojo.com/weekend/2024W07/?ref_=bo_we_nav\"\n",
        "response = requests.get(url)\n",
        "soup = BeautifulSoup(response.content, 'html.parser')\n",
        "\n",
        "# Use the correct class or id for the table\n",
        "table = soup.find('table', {'class': 'mojo-body-table'})\n",
        "\n",
        "data = []\n",
        "\n",
        "if table:\n",
        "    rows = table.find_all('tr')[1:]  # Assuming the first row is the header\n",
        "\n",
        "    for row in rows:\n",
        "        cells = row.find_all('td')\n",
        "        if len(cells) >= 9:  # Ensure there are enough cells\n",
        "            entry = {\n",
        "                'rank': cells[0].text.strip(),\n",
        "                'release': cells[1].text.strip(),\n",
        "                'Title': cells[2].text.strip(),\n",
        "                'lw': cells[3].text.strip(),\n",
        "                'percentage': cells[4].text.strip(),\n",
        "                'change': cells[5].text.strip(),\n",
        "                'average': cells[6].text.strip(),\n",
        "                'gross': cells[7].text.strip(),\n",
        "                'Total Gross': cells[8].text.strip(),\n",
        "                 'distributor': cells[9].text.strip() if len(cells) > 9 else ''\n",
        "            }\n",
        "            data.append(entry)\n",
        "\n",
        "    if data:\n",
        "        csv_file = \"box_office_data.csv\"\n",
        "        with open(csv_file, mode='w', newline='', encoding='utf-8') as file:\n",
        "            writer = csv.DictWriter(file, fieldnames=data[0].keys())\n",
        "            writer.writeheader()\n",
        "            for item in data:\n",
        "                writer.writerow(item)\n",
        "        print(f\"Data saved to {csv_file}\")\n",
        "    else:\n",
        "        print(\"No data extracted from the table.\")\n",
        "else:\n",
        "    print(\"Table not found in the page.\")\n"
      ]
    },
    {
      "cell_type": "code",
      "source": [
        "df=pd.read_csv('/content/box_office_data.csv')\n",
        "df.head()\n"
      ],
      "metadata": {
        "id": "wVyQWgIv22uj"
      },
      "execution_count": null,
      "outputs": []
    },
    {
      "cell_type": "markdown",
      "source": [
        "# Choose only 6 movies\n",
        "For this assinment, we do not need to choose all the moive, we only use need to use the first 6 movies... you can do this by creating a new dataset lets call it `data=df.head(6)`"
      ],
      "metadata": {
        "id": "rfeBncL4_oft"
      }
    },
    {
      "cell_type": "code",
      "source": [
        "# create the new dataframe and call it data ( look the the hint above)\n",
        "data = df.head(6)\n",
        "print(data)\n",
        "\n",
        "\n"
      ],
      "metadata": {
        "id": "OrHG0klW3b_E"
      },
      "execution_count": null,
      "outputs": []
    },
    {
      "cell_type": "markdown",
      "source": [
        "### Lets clean our data, by removeing $ and comma . and we create a new columnt we call it `Total Gross Cleaned' which you will use in your analysis"
      ],
      "metadata": {
        "id": "IYsq5remAM3F"
      }
    },
    {
      "cell_type": "code",
      "source": [
        "\n",
        "\n",
        "# This line is correct as per your DataFrame structure\n",
        "data['Total Gross Cleaned'] = data['Total Gross'].str.replace('[\\$,]', '', regex=True).astype(float)\n",
        "print(data)\n",
        "\n",
        "\n"
      ],
      "metadata": {
        "id": "mOnYBwGV5LH9"
      },
      "execution_count": null,
      "outputs": []
    },
    {
      "cell_type": "markdown",
      "source": [
        "# Task 1: Visualize Data with a Bar Graph\n",
        "\n",
        "**Objective:** Create a bar graph to visualize the relationship between `Title` and `Weekend Gross` using the `data` DataFrame.\n",
        "\n",
        "**Instructions:**\n",
        "\n",
        "1. **Plotting**: Utilize matplotlib to create a bar graph that plots each movie title (`Title`) against its corresponding `Weekend Gross`.\n",
        "2. **Adjustments**: Ensure the graph is readable and appropriately sized to effectively display the data.\n",
        "3.  **Improvements**: List any aspects of the graph that could be improved.\n",
        "\n"
      ],
      "metadata": {
        "id": "GClLwzhOA1Pi"
      }
    },
    {
      "cell_type": "code",
      "source": [
        "# Task 1 code need to be here\n",
        "plt.figure(figsize = (20,10))\n",
        "plt.bar(data['Title'], data['Total Gross Cleaned'])\n",
        "plt.xlabel('Movies')\n",
        "plt.ylabel('Weekend Gross')\n",
        "plt.show()\n",
        "\n",
        "\n"
      ],
      "metadata": {
        "id": "PHMiBFBw56qw"
      },
      "execution_count": null,
      "outputs": []
    },
    {
      "cell_type": "markdown",
      "source": [
        "## List of Improvements\n",
        "- The scaling on the y-axis is unclear\n",
        "- The bars are not in descending or ascending order\n",
        "- The graph is not visually pleasing\n",
        "- Due to the scaling on the graph you can't clearly tell how much a movie grossed"
      ],
      "metadata": {
        "id": "KQVTtbKgWUu8"
      }
    },
    {
      "cell_type": "markdown",
      "source": [
        "## Task 2: Correct Data Sorting and Create a Horizontal Bar Chart\n",
        "\n",
        "\n",
        " **Sort the Data**:\n",
        "   Begin by sorting your data to ensure it's in the correct order for visualization. Use the `sort_values` method on your DataFrame. To sort the data in ascending order based on the 'Total Gross Cleaned' column, execute the following line of code:\n",
        "\n",
        "   ````sorted_data = data.sort_values(by='Total Gross Cleaned', ascending=True)````\n"
      ],
      "metadata": {
        "id": "6ZllyABQJnQO"
      }
    },
    {
      "cell_type": "code",
      "source": [
        "## Task 2 Code be need to be here\n",
        "\n",
        "# Correcting the sorting method\n",
        "data = data.sort_values(by = 'Total Gross Cleaned', ascending = True)\n",
        "\n",
        "# Now plotting with matplotlib\n",
        "plt.figure(figsize=(20,10))\n",
        "plt.bar(data['Title'], data['Total Gross Cleaned'])\n",
        "plt.show()\n",
        "\n",
        "\n"
      ],
      "metadata": {
        "id": "2tjdYfTrkB_Q"
      },
      "execution_count": null,
      "outputs": []
    },
    {
      "cell_type": "markdown",
      "source": [
        "### Task 3:\n",
        "\n",
        "To adjust the `Total Gross Cleaned` column values from dollars to millions and enhance readability by converting these values to integers, we need to divide each entry by 1,000,000. This transformation simplifies the data presentation, making large numbers more comprehensible. After dividing, it's recommended to convert the results to integers to remove any decimal points for a cleaner display. This approach is consistent with practices demonstrated in the [`week4.ipynb`](https://github.com/Reben80/Data110-32213/blob/bc90a812b1d18b9b2ff294ad10754ff19525160b/Week4.ipynb) notebook available on GitHub, which serves as a useful reference for this kind of data manipulation.\n"
      ],
      "metadata": {
        "id": "JfebEP2yFVkd"
      }
    },
    {
      "cell_type": "code",
      "source": [
        "# Task 3 code need to be here.\n",
        "data['Total Gross Cleaned'] = data['Total Gross Cleaned']/1000000\n",
        "data['Total Gross Cleaned'] = data['Total Gross Cleaned'].astype(int)"
      ],
      "metadata": {
        "id": "z2KXNnEOGibc"
      },
      "execution_count": null,
      "outputs": []
    },
    {
      "cell_type": "markdown",
      "source": [
        "## Task 4\n",
        "create the final graph with the following specifications:\n",
        "\n",
        "1. **Frameless Design**: Ensure the graph does not have an outer frame.\n",
        "2. **Vertical Grid Only**: Include only vertical grid lines; remove any horizontal grid lines.\n",
        "3. **Titles and Labels**: Add a meaningful title to the graph as well as labels for the X and Y axes to enhance readability.\n",
        "4. **Figure Size**: Adjust the figure size to ensure it's suitable and makes the data easy to view and understand.\n",
        "5. **Orientation**: The graph should be a horizontal bar chart to better display the data.\n",
        "\n",
        "For detailed examples and guidance on implementing these features, please refer to the `week4.ipynb` notebook available at [ GitHub](https://github.com/Reben80/Data110-32213/blob/bc90a812b1d18b9b2ff294ad10754ff19525160b/Week4.ipynb). The notebook provides valuable insights into data visualization techniques, including how to adjust plot aesthetics to meet specific criteria.\n"
      ],
      "metadata": {
        "id": "a5R3rkhbGwVF"
      }
    },
    {
      "cell_type": "code",
      "source": [
        "# Task 4 code need to be here.\n",
        "plt.figure(figsize=(10,10))\n",
        "plt.grid(axis='x', color='gray', linewidth=0.2)\n",
        "plt.barh(data['Title'], data['Total Gross Cleaned'], color='red')\n",
        "plt.gca().invert_yaxis()\n",
        "ax=plt.gca()\n",
        "ax.set_axisbelow(True)\n",
        "\n",
        "ax.spines['top'].set_visible(False)\n",
        "ax.spines['left'].set_visible(False)\n",
        "ax.spines['right'].set_visible(False)\n",
        "ax.spines['bottom'].set_visible(False)\n",
        "ax.tick_params(axis='both', which='both', length=0)\n",
        "\n",
        "plt.xlabel('Weekend Gross (Millions $)',fontsize='x-large')\n",
        "plt.title('Weekend Gross of Movies', fontsize='xx-large')\n",
        "plt.ylabel('Movie', fontsize='x-large')\n",
        "plt.show()\n"
      ],
      "metadata": {
        "id": "O-cvkRVsI47B"
      },
      "execution_count": null,
      "outputs": []
    }
  ]
}